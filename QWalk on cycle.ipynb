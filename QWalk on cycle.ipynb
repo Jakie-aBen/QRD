{
 "cells": [
  {
   "cell_type": "markdown",
   "metadata": {},
   "source": [
    "Quantum walk on cycle"
   ]
  },
  {
   "cell_type": "code",
   "execution_count": 1,
   "metadata": {},
   "outputs": [],
   "source": [
    "from qiskit import QuantumCircuit, transpile\n",
    "from qiskit_aer import AerSimulator\n",
    "from qiskit.visualization import plot_histogram\n",
    "import matplotlib.pyplot as plt\n"
   ]
  },
  {
   "cell_type": "code",
   "execution_count": 2,
   "metadata": {},
   "outputs": [],
   "source": [
    "# Function to create a quantum walk circuit on a cycle graph\n",
    "def create_quantum_walk_circuit(num_qubits, num_steps):\n",
    "    qc = QuantumCircuit(num_qubits)\n",
    "       # Initialize the walker to be in a superposition of all nodes\n",
    "    for qubit in range(num_qubits):\n",
    "        qc.h(qubit)\n",
    "\n",
    "    # Define the coin and shift operators\n",
    "    coin = QuantumCircuit(1)\n",
    "    coin.h(0)\n",
    "\n",
    "    shift = QuantumCircuit(num_qubits)\n",
    "    for i in range(num_qubits):\n",
    "        shift.cx(i, (i + 1) % num_qubits)\n",
    "\n",
    "    # Apply the coin and shift operators for the specified number of steps\n",
    "    for _ in range(num_steps):\n",
    "        for qubit in range(num_qubits):\n",
    "            qc.append(coin, [qubit])\n",
    "        qc.append(shift, range(num_qubits))\n",
    "\n",
    "    # Measure all qubits\n",
    "    qc.measure_all()\n",
    "\n",
    "    return qc"
   ]
  },
  {
   "cell_type": "code",
   "execution_count": 3,
   "metadata": {},
   "outputs": [],
   "source": [
    "# Parameters\n",
    "num_qubits = 3  # Number of qubits (nodes in the cycle graph)\n",
    "num_steps = 2  # Number of steps for the quantum walk\n",
    "# Create the quantum walk circuit\n",
    "qc = create_quantum_walk_circuit(num_qubits, num_steps)\n",
    "# Visualize the circuit\n",
    "qc.draw('mpl')\n",
    "plt.show()"
   ]
  },
  {
   "cell_type": "code",
   "execution_count": 4,
   "metadata": {},
   "outputs": [],
   "source": [
    "simulator = AerSimulator()\n",
    "compiled_circuit = transpile(qc, simulator)\n",
    "result = simulator.run(compiled_circuit, shots=10000).result()\n",
    "counts = result.get_counts(compiled_circuit)\n",
    "plot_histogram(counts)\n",
    "plt.show()"
   ]
  },
  {
   "cell_type": "code",
   "execution_count": 5,
   "metadata": {},
   "outputs": [],
   "source": [
    "plot_histogram(counts)\n",
    "plt.show()"
   ]
  },
  {
   "cell_type": "code",
   "execution_count": null,
   "metadata": {},
   "outputs": [],
   "source": []
  }
 ],
 "metadata": {
  "kernelspec": {
   "display_name": "cwq1",
   "language": "python",
   "name": "python3"
  },
  "language_info": {
   "codemirror_mode": {
    "name": "ipython",
    "version": 3
   },
   "file_extension": ".py",
   "mimetype": "text/x-python",
   "name": "python",
   "nbconvert_exporter": "python",
   "pygments_lexer": "ipython3",
   "version": "3.12.3"
  }
 },
 "nbformat": 4,
 "nbformat_minor": 2
}
